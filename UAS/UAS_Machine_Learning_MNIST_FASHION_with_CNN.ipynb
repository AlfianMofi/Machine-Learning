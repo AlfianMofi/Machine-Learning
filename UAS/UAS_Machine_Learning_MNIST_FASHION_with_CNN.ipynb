{
  "nbformat": 4,
  "nbformat_minor": 0,
  "metadata": {
    "colab": {
      "provenance": [],
      "gpuType": "T4"
    },
    "kernelspec": {
      "name": "python3",
      "display_name": "Python 3"
    },
    "language_info": {
      "name": "python"
    },
    "accelerator": "GPU"
  },
  "cells": [
    {
      "cell_type": "code",
      "execution_count": 1,
      "metadata": {
        "id": "dhpAOAPQU2LK"
      },
      "outputs": [],
      "source": [
        "# Nama   : Alfian Mohamad Firdaus\n",
        "# NIM    : 1103204002\n",
        "# Dataset : MNIST FASHION, Model : CNN\n",
        "# Referensi : https://github.com/zalandoresearch/fashion-mnist"
      ]
    },
    {
      "cell_type": "markdown",
      "source": [
        "#Import Library dan Datasets dari TensorFlow"
      ],
      "metadata": {
        "id": "932xeRz6X6n3"
      }
    },
    {
      "cell_type": "code",
      "source": [
        "# Import library TensorFlow\n",
        "import tensorflow as tf\n",
        "\n",
        "# Import dataset Fashion MNIST dari modul datasets di Keras\n",
        "mnist = tf.keras.datasets.fashion_mnist\n",
        "\n",
        "# Memuat dataset Fashion MNIST dan membaginya menjadi set pelatihan dan set pengujian\n",
        "(training_images, training_labels), (test_images, test_labels) = mnist.load_data()\n"
      ],
      "metadata": {
        "id": "WUXjVtQ6j-zm",
        "colab": {
          "base_uri": "https://localhost:8080/"
        },
        "outputId": "52e8271e-27de-4ae9-db01-60077f2282d2"
      },
      "execution_count": 2,
      "outputs": [
        {
          "output_type": "stream",
          "name": "stdout",
          "text": [
            "Downloading data from https://storage.googleapis.com/tensorflow/tf-keras-datasets/train-labels-idx1-ubyte.gz\n",
            "29515/29515 [==============================] - 0s 0us/step\n",
            "Downloading data from https://storage.googleapis.com/tensorflow/tf-keras-datasets/train-images-idx3-ubyte.gz\n",
            "26421880/26421880 [==============================] - 0s 0us/step\n",
            "Downloading data from https://storage.googleapis.com/tensorflow/tf-keras-datasets/t10k-labels-idx1-ubyte.gz\n",
            "5148/5148 [==============================] - 0s 0us/step\n",
            "Downloading data from https://storage.googleapis.com/tensorflow/tf-keras-datasets/t10k-images-idx3-ubyte.gz\n",
            "4422102/4422102 [==============================] - 0s 0us/step\n"
          ]
        }
      ]
    },
    {
      "cell_type": "markdown",
      "source": [
        "Penjelasan:\n",
        "\n",
        "Mengimpor library TensorFlow.\n",
        "Mengimpor dataset Fashion MNIST dari dataset bawaan TensorFlow.\n",
        "Memuat dataset Fashion MNIST dan membaginya menjadi set pelatihan (training set) dan set pengujian (testing set)"
      ],
      "metadata": {
        "id": "WG-BK6LvkiGf"
      }
    },
    {
      "cell_type": "code",
      "source": [
        "# Mencetak bentuk (shape) dari training_images, training_labels, test_images, dan test_labels\n",
        "print('X_train: ' + str(training_images.shape))\n",
        "print('Y_train: ' + str(training_labels.shape))\n",
        "print('X_test: ' + str(test_images.shape))\n",
        "print('Y_test: ' + str(test_labels.shape))\n"
      ],
      "metadata": {
        "colab": {
          "base_uri": "https://localhost:8080/"
        },
        "id": "7BQwFbtUYtt9",
        "outputId": "8313602d-731c-4b4e-a0cb-cc62fbf8a8c8"
      },
      "execution_count": 3,
      "outputs": [
        {
          "output_type": "stream",
          "name": "stdout",
          "text": [
            "X_train: (60000, 28, 28)\n",
            "Y_train: (60000,)\n",
            "X_test: (10000, 28, 28)\n",
            "Y_test: (10000,)\n"
          ]
        }
      ]
    },
    {
      "cell_type": "markdown",
      "source": [
        "Penjelasan:\n",
        "Kode di atas mencetak bentuk (shape) dari array yang berisi gambar dan label untuk set pelatihan dan pengujian. training_images.shape dan training_labels.shape mencetak bentuk dari gambar dan label pada set pelatihan, sedangkan test_images.shape dan test_labels.shape mencetak bentuk dari gambar dan label pada set pengujia"
      ],
      "metadata": {
        "id": "WvlJ6hh5ky5d"
      }
    },
    {
      "cell_type": "code",
      "source": [
        "# Mengambil 100 data pertama dari set pelatihan dan set pengujian\n",
        "training_images = training_images[:100]\n",
        "training_labels = training_labels[:100]\n",
        "\n",
        "test_images = test_images[:100]\n",
        "test_labels = test_labels[:100]"
      ],
      "metadata": {
        "id": "L_UgJzieaZVF"
      },
      "execution_count": 4,
      "outputs": []
    },
    {
      "cell_type": "markdown",
      "source": [
        "Penjelasan:\n",
        "Kode di atas membatasi jumlah data dalam set pelatihan dan set pengujian menjadi 100 data pertama. training_images dan training_labels hanya akan berisi 100 gambar dan label pertama dari set pelatihan asli, dan test_images serta test_labels hanya akan berisi 100 gambar dan label pertama dari set pengujian asli."
      ],
      "metadata": {
        "id": "9JyVwdbNlHBv"
      }
    },
    {
      "cell_type": "code",
      "source": [
        "# Mengimpor library numpy dan mengatur opsi tampilan\n",
        "import numpy as np\n",
        "np.set_printoptions(linewidth=200)\n",
        "\n",
        "# Mengimpor library matplotlib untuk visualisasi\n",
        "import matplotlib.pyplot as plt\n",
        "\n",
        "# Menentukan indeks data yang akan ditampilkan\n",
        "idx_data = 80 # Ganti sesuai indeks yang kita inginkan\n",
        "\n",
        "# Menampilkan gambar pada indeks yang ditentukan dari set pelatihan\n",
        "plt.imshow(training_images[idx_data])\n",
        "\n",
        "# Mencetak label dari data pada indeks yang ditentukan\n",
        "print(training_labels[idx_data])\n",
        "\n",
        "# Mencetak nilai piksel dari gambar pada indeks yang ditentukan\n",
        "print(training_images[idx_data])"
      ],
      "metadata": {
        "colab": {
          "base_uri": "https://localhost:8080/",
          "height": 948
        },
        "id": "6o7CDDiAa5Ci",
        "outputId": "99b830e3-9088-4818-c4ba-f39e773812b9"
      },
      "execution_count": 5,
      "outputs": [
        {
          "output_type": "stream",
          "name": "stdout",
          "text": [
            "1\n",
            "[[  0   0   0   0   0   0   0   0   0   0 175 119 114  86  89  99 109 132   0   0   0   0   0   0   0   0   0   0]\n",
            " [  0   0   0   0   0   0   0   0   0  92 255 254 255 255 255 255 250 255  19   0   0   0   0   0   0   0   0   0]\n",
            " [  0   0   0   0   0   0   0   0   0 211 234 210 219 220 215 210 206 255 119   0   0   0   0   0   0   0   0   0]\n",
            " [  0   0   0   0   0   0   0   0   0 255 231 224 226 225 223 222 215 237 204   0   0   0   0   0   0   0   0   0]\n",
            " [  0   0   0   0   0   0   0   0  50 255 221 228 227 227 224 224 222 221 251   0   0   0   0   0   0   0   0   0]\n",
            " [  0   0   0   0   0   0   0   0 135 255 221 229 229 228 226 228 226 218 255  78   0   0   0   0   0   0   0   0]\n",
            " [  0   0   0   0   0   0   0   0 180 245 222 227 228 228 227 225 224 220 252 106   0   0   0   0   0   0   0   0]\n",
            " [  0   0   0   0   0   0   0   0 204 232 221 224 225 226 226 224 224 217 247 124   0   0   0   0   0   0   0   0]\n",
            " [  0   0   0   0   0   0   0   0 208 233 222 226 225 231 231 226 225 221 244 138   0   0   0   0   0   0   0   0]\n",
            " [  0   0   0   0   0   0   0   0 203 234 224 226 224 224 237 228 224 219 244 149   0   0   0   0   0   0   0   0]\n",
            " [  0   0   0   0   0   0   0   0 188 248 222 223 236 191 215 238 223 219 243 151   0   0   0   0   0   0   0   0]\n",
            " [  0   0   0   0   0   0   0   0 115 255 221 221 250 161 186 252 220 217 255 113   0   0   0   0   0   0   0   0]\n",
            " [  0   0   0   0   0   0   0   0  17 255 225 219 255 105 131 255 213 221 255  46   0   0   0   0   0   0   0   0]\n",
            " [  0   0   0   0   0   0   0   0   0 240 231 214 255  69  76 255 214 228 250   0   0   0   0   0   0   0   0   0]\n",
            " [  0   0   0   0   0   0   0   0   0 186 238 218 255  26  34 255 219 229 200   0   0   0   0   0   0   0   0   0]\n",
            " [  0   0   0   0   0   0   0   0   0 128 243 218 255  11  24 255 222 232 141   0   0   0   0   0   0   0   0   0]\n",
            " [  0   0   0   0   0   0   0   0   0 111 244 219 255   5  15 255 221 237 119   0   0   0   0   0   0   0   0   0]\n",
            " [  0   0   0   0   0   0   0   0   0 114 243 222 255   0   0 255 225 238 124   0   0   0   0   0   0   0   0   0]\n",
            " [  0   0   0   0   0   0   0   0   0 151 241 228 232   0   0 238 232 235 153   0   0   0   0   0   0   0   0   0]\n",
            " [  0   0   0   0   0   0   0   0   0 203 235 235 192   0   0 201 236 234 187   0   0   0   0   0   0   0   0   0]\n",
            " [  0   0   0   0   0   0   0   0   0 217 232 240 147   0   0 177 241 231 202   0   0   0   0   0   0   0   0   0]\n",
            " [  0   0   0   0   0   0   0   0   0 227 233 239 124   0   0 158 243 232 205   0   0   0   0   0   0   0   0   0]\n",
            " [  0   0   0   0   0   0   0   0   0 221 233 238  64   0   0 120 243 235 197   0   0   0   0   0   0   0   0   0]\n",
            " [  0   0   0   0   0   0   0   0   0 202 240 221   0   0   0  38 237 239 158   0   0   0   0   0   0   0   0   0]\n",
            " [  0   0   0   0   0   0   0   0   0 184 246 192   0   0   0  18 230 240 120   0   0   0   0   0   0   0   0   0]\n",
            " [  0   0   0   0   0   0   0   0   0 177 248 172   0   0   0   0 220 239 124   0   0   0   0   0   0   0   0   0]\n",
            " [  0   0   0   0   0   0   0   0  30 194 245 179   0   2   0   0 209 245 227  43   0   0   0   0   0   0   0   0]\n",
            " [  0   0   0   0   0   0   0   0   0  40  16   2   0   0   0   0  21  35  29   9   0   0   0   0   0   0   0   0]]\n"
          ]
        },
        {
          "output_type": "display_data",
          "data": {
            "text/plain": [
              "<Figure size 640x480 with 1 Axes>"
            ],
            "image/png": "[encoded data removed]"
          },
          "metadata": {}
        }
      ]
    },
    {
      "cell_type": "markdown",
      "source": [
        "Penjelasan:\n",
        "\n",
        "1. Mengimpor library numpy dan mengatur opsi tampilan: Baris pertama mengimpor library numpy dan mengatur lebar garis (linewidth) untuk keluaran array menjadi 200 karakter.\n",
        "2. Mengimpor library matplotlib untuk visualisasi: Baris kedua mengimpor library matplotlib.pyplot yang digunakan untuk visualisasi data.\n",
        "3. Menentukan indeks data yang akan ditampilkan: Baris ketiga menentukan indeks data yang akan digunakan, dalam hal ini indeks ke-x.\n",
        "4. Menampilkan gambar pada indeks yang ditentukan dari set pelatihan: Baris keempat menampilkan gambar dari set pelatihan pada indeks ke-x menggunakan plt.imshow.\n",
        "5. Mencetak label dari data pada indeks yang ditentukan: Baris kelima mencetak label dari data pada indeks ke-x.\n",
        "6. Mencetak nilai piksel dari gambar pada indeks yang ditentukan: Baris keenam mencetak array nilai piksel dari gambar pada indeks ke-x."
      ],
      "metadata": {
        "id": "natsm4eVlwH-"
      }
    },
    {
      "cell_type": "markdown",
      "source": [
        "# Model Convolutional Neural Network (CNN)"
      ],
      "metadata": {
        "id": "uqGUVVz8n7CN"
      }
    },
    {
      "cell_type": "code",
      "source": [
        "# Membuat grafik akurasi pelatihan dan validasi dari riwayat pelatihan model menggunakan TensorFlow dan Keras\n",
        "import tensorflow as tf\n",
        "from tensorflow.keras.models import Sequential\n",
        "from tensorflow.keras.layers import Conv2D, MaxPooling2D, Flatten, Dense\n",
        "import matplotlib.pyplot as plt\n",
        "\n",
        "# Load dataset\n",
        "mnist = tf.keras.datasets.fashion_mnist\n",
        "(training_images, training_labels), (test_images, test_labels) = mnist.load_data()\n",
        "\n",
        "# Preprocess dataset\n",
        "training_images = training_images.reshape((training_images.shape[0], 28, 28, 1)) / 255.0\n",
        "test_images = test_images.reshape((test_images.shape[0], 28, 28, 1)) / 255.0\n",
        "\n",
        "# Define model\n",
        "model = Sequential([\n",
        "    Conv2D(32, (3, 3), activation='relu', input_shape=(28, 28, 1)),  # Convolutional layer dengan 32 filter 3x3 dan ReLU activation\n",
        "    MaxPooling2D((2, 2)),  # Max pooling layer dengan filter 2x2\n",
        "    Conv2D(64, (3, 3), activation='relu'),  # Convolutional layer dengan 64 filter 3x3 dan ReLU activation\n",
        "    MaxPooling2D((2, 2)),  # Max pooling layer dengan filter 2x2\n",
        "    Flatten(),  # Meratakan output dari lapisan sebelumnya menjadi vektor\n",
        "    Dense(128, activation='relu'),  # Fully connected layer dengan 128 unit dan ReLU activation\n",
        "    Dense(10, activation='softmax')  # Output layer dengan 10 unit untuk klasifikasi 10 kategori dan softmax activation\n",
        "])\n",
        "\n",
        "# Compile model\n",
        "model.compile(optimizer='adam',\n",
        "              loss='sparse_categorical_crossentropy',\n",
        "              metrics=['accuracy'])\n",
        "\n",
        "# Train model\n",
        "history = model.fit(training_images, training_labels, epochs=10, validation_data=(test_images, test_labels))\n",
        "\n",
        "# Plot training history\n",
        "plt.plot(history.history['accuracy'], label='accuracy')  # Akurasi pelatihan\n",
        "plt.plot(history.history['val_accuracy'], label='val_accuracy')  # Akurasi validasi\n",
        "plt.xlabel('Epoch')  # Label sumbu X\n",
        "plt.ylabel('Accuracy')  # Label sumbu Y\n",
        "plt.ylim([0, 1])  # Rentang sumbu Y dari 0 hingga 1\n",
        "plt.legend(loc='lower right')  # Menampilkan legenda di sudut kanan bawah grafik\n",
        "plt.show()  # Menampilkan grafik\n"
      ],
      "metadata": {
        "colab": {
          "base_uri": "https://localhost:8080/",
          "height": 812
        },
        "id": "Xp3nKJaSmnlF",
        "outputId": "4fa86fea-1105-4b90-8083-8fbf87034581"
      },
      "execution_count": 6,
      "outputs": [
        {
          "output_type": "stream",
          "name": "stdout",
          "text": [
            "Epoch 1/10\n",
            "1875/1875 [==============================] - 15s 5ms/step - loss: 0.4412 - accuracy: 0.8403 - val_loss: 0.3441 - val_accuracy: 0.8739\n",
            "Epoch 2/10\n",
            "1875/1875 [==============================] - 11s 6ms/step - loss: 0.2965 - accuracy: 0.8914 - val_loss: 0.3153 - val_accuracy: 0.8823\n",
            "Epoch 3/10\n",
            "1875/1875 [==============================] - 8s 4ms/step - loss: 0.2541 - accuracy: 0.9068 - val_loss: 0.2668 - val_accuracy: 0.8999\n",
            "Epoch 4/10\n",
            "1875/1875 [==============================] - 8s 4ms/step - loss: 0.2203 - accuracy: 0.9176 - val_loss: 0.2555 - val_accuracy: 0.9067\n",
            "Epoch 5/10\n",
            "1875/1875 [==============================] - 7s 4ms/step - loss: 0.1939 - accuracy: 0.9274 - val_loss: 0.2626 - val_accuracy: 0.9027\n",
            "Epoch 6/10\n",
            "1875/1875 [==============================] - 7s 4ms/step - loss: 0.1698 - accuracy: 0.9366 - val_loss: 0.2462 - val_accuracy: 0.9099\n",
            "Epoch 7/10\n",
            "1875/1875 [==============================] - 7s 4ms/step - loss: 0.1511 - accuracy: 0.9433 - val_loss: 0.2635 - val_accuracy: 0.9064\n",
            "Epoch 8/10\n",
            "1875/1875 [==============================] - 6s 3ms/step - loss: 0.1323 - accuracy: 0.9507 - val_loss: 0.2622 - val_accuracy: 0.9146\n",
            "Epoch 9/10\n",
            "1875/1875 [==============================] - 7s 4ms/step - loss: 0.1151 - accuracy: 0.9565 - val_loss: 0.2840 - val_accuracy: 0.9135\n",
            "Epoch 10/10\n",
            "1875/1875 [==============================] - 7s 3ms/step - loss: 0.1026 - accuracy: 0.9615 - val_loss: 0.2956 - val_accuracy: 0.9072\n"
          ]
        },
        {
          "output_type": "display_data",
          "data": {
            "text/plain": [
              "<Figure size 640x480 with 1 Axes>"
            ],
            "image/png": "[encoded data removed]"
          },
          "metadata": {}
        }
      ]
    },
    {
      "cell_type": "markdown",
      "source": [
        "Model Convolutional Neural Network (CNN) sangat cocok untuk dataset Fashion MNIST karena:\n",
        "\n",
        "1. **Pengenalan Gambar**: CNN mampu mengekstrak fitur-fitur penting dari gambar pakaian seperti pola, tekstur, dan bentuk, berkat lapisan konvolusi dan pooling-nya.\n",
        "\n",
        "2. **Pengurangan Dimensi**: Lapisan max pooling membantu mengurangi dimensi gambar sambil mempertahankan informasi penting, memungkinkan model untuk fokus pada fitur-fitur yang relevan.\n",
        "\n",
        "3. **Klasifikasi Efisien**: Dengan lapisan Dense dan softmax, CNN dapat mengklasifikasikan gambar ke dalam 10 kategori pakaian secara efisien berdasarkan fitur-fitur yang dipelajari.\n",
        "\n",
        "4. **Performa Tinggi**: CNN telah terbukti memberikan akurasi yang tinggi dalam klasifikasi gambar, menjadikannya pilihan yang ideal untuk tugas-tugas seperti pengenalan pola pada dataset Fashion MNIST."
      ],
      "metadata": {
        "id": "R5XUvn0NojQq"
      }
    }
  ]
}